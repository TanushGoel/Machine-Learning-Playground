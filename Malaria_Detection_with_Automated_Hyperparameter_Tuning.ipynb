{
  "nbformat": 4,
  "nbformat_minor": 0,
  "metadata": {
    "colab": {
      "name": "CNN Malaria with Hyperparameter Tuning",
      "provenance": [],
      "collapsed_sections": [],
      "include_colab_link": true
    },
    "kernelspec": {
      "name": "python3",
      "display_name": "Python 3"
    },
    "accelerator": "TPU"
  },
  "cells": [
    {
      "cell_type": "markdown",
      "metadata": {
        "id": "view-in-github",
        "colab_type": "text"
      },
      "source": [
        "<a href=\"https://colab.research.google.com/github/TanushGoel/Machine-Learning-Playground/blob/master/Malaria_Detection_with_Automated_Hyperparameter_Tuning.ipynb\" target=\"_parent\"><img src=\"https://colab.research.google.com/assets/colab-badge.svg\" alt=\"Open In Colab\"/></a>"
      ]
    },
    {
      "cell_type": "markdown",
      "metadata": {
        "id": "3lg8rJ35EKhc",
        "colab_type": "text"
      },
      "source": [
        "IN PROGRESS"
      ]
    },
    {
      "cell_type": "code",
      "metadata": {
        "id": "Ky-1IRtve3SE",
        "colab_type": "code",
        "colab": {}
      },
      "source": [
        "import pandas as pd\n",
        "import numpy as np\n",
        "import matplotlib.pyplot as plt\n",
        "import seaborn as sns\n",
        "%matplotlib inline\n",
        "import os\n",
        "from os.path import isfile\n",
        "import PIL\n",
        "from PIL import Image, ImageFile                            \n",
        "ImageFile.LOAD_TRUNCATED_IMAGES = True \n",
        "np.random.seed(42)"
      ],
      "execution_count": 0,
      "outputs": []
    },
    {
      "cell_type": "code",
      "metadata": {
        "id": "Em8WWGKFQ_OT",
        "colab_type": "code",
        "colab": {}
      },
      "source": [
        "!pip3 -q install tensorflow==1.14.0"
      ],
      "execution_count": 0,
      "outputs": []
    },
    {
      "cell_type": "code",
      "metadata": {
        "id": "FwYhHFePRCJ9",
        "colab_type": "code",
        "colab": {}
      },
      "source": [
        "!pip3 -q install keras"
      ],
      "execution_count": 0,
      "outputs": []
    },
    {
      "cell_type": "code",
      "metadata": {
        "id": "PNBrvZRH-IF0",
        "colab_type": "code",
        "colab": {}
      },
      "source": [
        "import tensorflow as tf\n",
        "import keras\n",
        "from keras.utils import np_utils"
      ],
      "execution_count": 0,
      "outputs": []
    },
    {
      "cell_type": "code",
      "metadata": {
        "id": "FQNs8aCg-dH5",
        "colab_type": "code",
        "outputId": "c73c7cf1-9659-43f0-bc08-796a29c112b8",
        "colab": {
          "base_uri": "https://localhost:8080/",
          "height": 34
        }
      },
      "source": [
        "tf.__version__"
      ],
      "execution_count": 0,
      "outputs": [
        {
          "output_type": "execute_result",
          "data": {
            "text/plain": [
              "'1.14.0'"
            ]
          },
          "metadata": {
            "tags": []
          },
          "execution_count": 9
        }
      ]
    },
    {
      "cell_type": "code",
      "metadata": {
        "id": "ane76laWRe7G",
        "colab_type": "code",
        "colab": {}
      },
      "source": [
        "!pip3 -q install talos"
      ],
      "execution_count": 0,
      "outputs": []
    },
    {
      "cell_type": "code",
      "metadata": {
        "id": "lFados_OB_dE",
        "colab_type": "code",
        "colab": {}
      },
      "source": [
        "import talos as ta"
      ],
      "execution_count": 0,
      "outputs": []
    },
    {
      "cell_type": "code",
      "metadata": {
        "id": "EvMU_78dBxIw",
        "colab_type": "code",
        "outputId": "3d030025-6161-4b42-9c86-d2b8508e4999",
        "colab": {
          "base_uri": "https://localhost:8080/",
          "height": 34
        }
      },
      "source": [
        "ta.__version__"
      ],
      "execution_count": 0,
      "outputs": [
        {
          "output_type": "execute_result",
          "data": {
            "text/plain": [
              "'0.6.3'"
            ]
          },
          "metadata": {
            "tags": []
          },
          "execution_count": 13
        }
      ]
    },
    {
      "cell_type": "code",
      "metadata": {
        "id": "JLOOzbitQRDB",
        "colab_type": "code",
        "colab": {}
      },
      "source": [
        "!pip3 -q install kaggle"
      ],
      "execution_count": 0,
      "outputs": []
    },
    {
      "cell_type": "code",
      "metadata": {
        "id": "Mmxs69d4QRck",
        "colab_type": "code",
        "colab": {}
      },
      "source": [
        "# upload kaggle token 'kaggle.json'\n",
        "from google.colab import files\n",
        "files.upload()"
      ],
      "execution_count": 0,
      "outputs": []
    },
    {
      "cell_type": "code",
      "metadata": {
        "id": "YjWp6VPoQTrj",
        "colab_type": "code",
        "colab": {}
      },
      "source": [
        "!mkdir -p ~/.kaggle\n",
        "!cp kaggle.json ~/.kaggle/\n",
        "!chmod 600 /root/.kaggle/kaggle.json"
      ],
      "execution_count": 0,
      "outputs": []
    },
    {
      "cell_type": "code",
      "metadata": {
        "id": "HRBByDE8QWIH",
        "colab_type": "code",
        "outputId": "0f972b55-b18c-4087-bfa7-c39166f89022",
        "colab": {
          "base_uri": "https://localhost:8080/",
          "height": 97
        }
      },
      "source": [
        "!kaggle datasets download -d 'iarunava/cell-images-for-detecting-malaria'"
      ],
      "execution_count": 0,
      "outputs": [
        {
          "output_type": "stream",
          "text": [
            "Downloading cell-images-for-detecting-malaria.zip to /content\n",
            " 98% 660M/675M [00:06<00:00, 123MB/s]\n",
            "100% 675M/675M [00:07<00:00, 97.8MB/s]\n"
          ],
          "name": "stdout"
        }
      ]
    },
    {
      "cell_type": "code",
      "metadata": {
        "id": "szA2JD3opyUP",
        "colab_type": "code",
        "colab": {}
      },
      "source": [
        "# upload zipped file before this step\n",
        "!unzip -o -q 'cell-images-for-detecting-malaria.zip'\n",
        "\n",
        "# -f  freshen existing files, create none\n",
        "# -n  never overwrite existing files         \n",
        "# -q  quiet mode (-qq => quieter)\n",
        "# -o  overwrite files WITHOUT prompting    "
      ],
      "execution_count": 0,
      "outputs": []
    },
    {
      "cell_type": "code",
      "metadata": {
        "id": "iMrb6bwaqnFz",
        "colab_type": "code",
        "outputId": "85f5b58d-37ae-4712-ecb2-fa981d62e646",
        "colab": {
          "base_uri": "https://localhost:8080/",
          "height": 34
        }
      },
      "source": [
        "print(os.listdir(\"cell_images\"))"
      ],
      "execution_count": 0,
      "outputs": [
        {
          "output_type": "stream",
          "text": [
            "['Uninfected', 'Parasitized', 'cell_images']\n"
          ],
          "name": "stdout"
        }
      ]
    },
    {
      "cell_type": "code",
      "metadata": {
        "id": "wor98d0-qQ5x",
        "colab_type": "code",
        "colab": {}
      },
      "source": [
        "infected = os.listdir('cell_images/Parasitized/') \n",
        "uninfected = os.listdir('cell_images/Uninfected/')"
      ],
      "execution_count": 0,
      "outputs": []
    },
    {
      "cell_type": "code",
      "metadata": {
        "id": "6d3ukilQqjQE",
        "colab_type": "code",
        "outputId": "6bd648bc-2b5f-40cd-bcf3-1c217a1b2a16",
        "colab": {
          "base_uri": "https://localhost:8080/",
          "height": 51
        }
      },
      "source": [
        "# Create dataframes\n",
        "\n",
        "inputs = np.empty(shape=(27558, 50, 50, 3), dtype='float32')\n",
        "targets = np.empty(shape=(27558), dtype='uint8')\n",
        "\n",
        "x=0\n",
        "for i in infected:\n",
        "  try:\n",
        "    img = Image.open(\"cell_images/Parasitized/\"+i).resize((50, 50))\n",
        "    inputs[x] = np.array(img)/255\n",
        "    targets[x] = 1\n",
        "    x+=1\n",
        "  except:\n",
        "    print(i, 'could not be opened')\n",
        "        \n",
        "for u in uninfected:\n",
        "  try:\n",
        "    img = Image.open(\"cell_images/Parasitized/\"+i).resize((50, 50))\n",
        "    inputs[x] = np.array(img)/255\n",
        "    targets[x] = 0\n",
        "    x+=1\n",
        "  except:\n",
        "    print(u, 'could not be opened')"
      ],
      "execution_count": 0,
      "outputs": [
        {
          "output_type": "stream",
          "text": [
            "Thumbs.db could not be opened\n",
            "C37BP2_thinF_IMG_20150620_131423a_cell_51.png could not be opened\n"
          ],
          "name": "stdout"
        }
      ]
    },
    {
      "cell_type": "code",
      "metadata": {
        "id": "dwELK6fFExtX",
        "colab_type": "code",
        "outputId": "37a56afa-7e6a-42e7-a0c2-669f72b0cb45",
        "colab": {
          "base_uri": "https://localhost:8080/",
          "height": 34
        }
      },
      "source": [
        "inputs.shape"
      ],
      "execution_count": 0,
      "outputs": [
        {
          "output_type": "execute_result",
          "data": {
            "text/plain": [
              "(27558, 50, 50, 3)"
            ]
          },
          "metadata": {
            "tags": []
          },
          "execution_count": 25
        }
      ]
    },
    {
      "cell_type": "code",
      "metadata": {
        "id": "ntuSCHQDE0hh",
        "colab_type": "code",
        "outputId": "fddc2a0c-5b43-4c83-d5f6-409eeb62d2c6",
        "colab": {
          "base_uri": "https://localhost:8080/",
          "height": 34
        }
      },
      "source": [
        "targets.shape"
      ],
      "execution_count": 0,
      "outputs": [
        {
          "output_type": "execute_result",
          "data": {
            "text/plain": [
              "(27558,)"
            ]
          },
          "metadata": {
            "tags": []
          },
          "execution_count": 26
        }
      ]
    },
    {
      "cell_type": "code",
      "metadata": {
        "id": "_gn7W1vBrT4l",
        "colab_type": "code",
        "outputId": "7a0a8976-9c81-4d5e-9578-274e27d52ec1",
        "colab": {
          "base_uri": "https://localhost:8080/",
          "height": 68
        }
      },
      "source": [
        "# Train, Valid, Test Split\n",
        "\n",
        "from sklearn.model_selection import train_test_split\n",
        "\n",
        "X_train, X_test, y_train, y_test = train_test_split(inputs, targets, test_size=0.2, random_state=13579)\n",
        "del inputs\n",
        "del targets\n",
        "\n",
        "X_train, X_valid, y_train, y_valid = train_test_split(X_train, y_train, test_size=0.1, random_state=24680)\n",
        "\n",
        "print('Train:', X_train.shape[0])\n",
        "print('Valid:', X_valid.shape[0])\n",
        "print('Test:', X_test.shape[0])"
      ],
      "execution_count": 0,
      "outputs": [
        {
          "output_type": "stream",
          "text": [
            "Train: 19841\n",
            "Valid: 2205\n",
            "Test: 5512\n"
          ],
          "name": "stdout"
        }
      ]
    },
    {
      "cell_type": "code",
      "metadata": {
        "id": "oBiC6-derdYM",
        "colab_type": "code",
        "outputId": "1b0ecb65-f49a-4eea-ec3c-d7be5b139ffa",
        "colab": {
          "base_uri": "https://localhost:8080/",
          "height": 181
        }
      },
      "source": [
        "# Visualize Images\n",
        "\n",
        "fig = plt.figure(figsize=(20,2))\n",
        "for i in range(0, 10):\n",
        "  ax = fig.add_subplot(1, 10, i+1)\n",
        "  ax.imshow(X_train[i])\n",
        "fig.suptitle('Images', fontsize=20)"
      ],
      "execution_count": 0,
      "outputs": [
        {
          "output_type": "execute_result",
          "data": {
            "text/plain": [
              "Text(0.5, 0.98, 'Images')"
            ]
          },
          "metadata": {
            "tags": []
          },
          "execution_count": 28
        },
        {
          "output_type": "display_data",
          "data": {
            "image/png": "[encoded data removed]",
            "text/plain": [
              "<Figure size 1440x144 with 10 Axes>"
            ]
          },
          "metadata": {
            "tags": []
          }
        }
      ]
    },
    {
      "cell_type": "code",
      "metadata": {
        "id": "UefISZigr0RM",
        "colab_type": "code",
        "colab": {}
      },
      "source": [
        "# Data Augmentation\n",
        "\n",
        "from tensorflow.python.keras.preprocessing.image import ImageDataGenerator\n",
        "\n",
        "datagen = ImageDataGenerator(\n",
        "        rotation_range=90,  # randomly rotate images in the range (90 degrees)\n",
        "        zoom_range=0.1, # randomly zoom image \n",
        "        width_shift_range=0.1,  # randomly shift images horizontally (10% of total width)\n",
        "        height_shift_range=0.1, # randomly shift images vertically (10% of total height)\n",
        "        horizontal_flip=True,  # randomly flip images\n",
        "        vertical_flip=True)  # randomly flip images)\n",
        "\n",
        "datagen.fit(X_train)"
      ],
      "execution_count": 0,
      "outputs": []
    },
    {
      "cell_type": "code",
      "metadata": {
        "id": "urjxsttHr2Oc",
        "colab_type": "code",
        "outputId": "2f3b66a0-7222-46dd-ca12-3dcbe29d75bd",
        "colab": {
          "base_uri": "https://localhost:8080/",
          "height": 311
        }
      },
      "source": [
        "# Take subset of training data\n",
        "X_train_subset = X_train[:10]\n",
        "\n",
        "# Visualize subset of training data\n",
        "fig = plt.figure(figsize=(20,2))\n",
        "for i in range(0, len(X_train_subset)):\n",
        "  ax = fig.add_subplot(1, 10, i+1)\n",
        "  ax.imshow(X_train_subset[i])\n",
        "fig.suptitle('Subset of Original Training Images', fontsize=20)\n",
        "\n",
        "# Visualize augmented images\n",
        "fig = plt.figure(figsize=(20,2))\n",
        "for x_batch in datagen.flow(X_train_subset, batch_size=10):\n",
        "    for i in range(0, 10):\n",
        "        ax = fig.add_subplot(1, 10, i+1)\n",
        "        ax.imshow(x_batch[i])\n",
        "    fig.suptitle('Augmented Subset of Images', fontsize=20)\n",
        "    plt.show()\n",
        "    break\n",
        "    \n",
        "del X_train_subset"
      ],
      "execution_count": 0,
      "outputs": [
        {
          "output_type": "display_data",
          "data": {
            "image/png": "[encoded data removed]",
            "text/plain": [
              "<Figure size 1440x144 with 10 Axes>"
            ]
          },
          "metadata": {
            "tags": []
          }
        },
        {
          "output_type": "display_data",
          "data": {
            "image/png": "[encoded data removed]",
            "text/plain": [
              "<Figure size 1440x144 with 10 Axes>"
            ]
          },
          "metadata": {
            "tags": []
          }
        }
      ]
    },
    {
      "cell_type": "code",
      "metadata": {
        "id": "0yledaMWr5b-",
        "colab_type": "code",
        "colab": {}
      },
      "source": [
        "# Reshape Images\n",
        "\n",
        "X_train = X_train.reshape(X_train.shape[0], *(50, 50, 3))\n",
        "X_valid = X_valid.reshape(X_valid.shape[0], *(50, 50, 3))\n",
        "X_test = X_test.reshape(X_test.shape[0], *(50, 50, 3))"
      ],
      "execution_count": 0,
      "outputs": []
    },
    {
      "cell_type": "code",
      "metadata": {
        "id": "FyKJINVf19Vo",
        "colab_type": "code",
        "outputId": "1c6e52ce-0028-4393-9412-e2f7bb355ff0",
        "colab": {
          "base_uri": "https://localhost:8080/",
          "height": 153
        }
      },
      "source": [
        "# Encode Categorical Integer Labels to One-Hot Scheme\n",
        "from tensorflow.python.keras.utils import np_utils\n",
        "\n",
        "# print first 10 integer-valued training labels\n",
        "print('integer-valued labels:')\n",
        "print(y_train[:5])\n",
        "\n",
        "# one-hot encode the labels\n",
        "y_train = np_utils.to_categorical(y_train, 2)\n",
        "y_valid = np_utils.to_categorical(y_valid, 2)\n",
        "y_test = np_utils.to_categorical(y_test, 2)\n",
        "\n",
        "# print first ten one-hot training labels\n",
        "print('one-hot labels:')\n",
        "print(y_train[:5])"
      ],
      "execution_count": 0,
      "outputs": [
        {
          "output_type": "stream",
          "text": [
            "integer-valued labels:\n",
            "[0 1 0 0 1]\n",
            "one-hot labels:\n",
            "[[1. 0.]\n",
            " [0. 1.]\n",
            " [1. 0.]\n",
            " [1. 0.]\n",
            " [0. 1.]]\n"
          ],
          "name": "stdout"
        }
      ]
    },
    {
      "cell_type": "code",
      "metadata": {
        "id": "J0f3tUNk04TI",
        "colab_type": "code",
        "colab": {}
      },
      "source": [
        "# Build Model\n",
        "\n",
        "from tensorflow.python.keras.models import Sequential\n",
        "from tensorflow.python.keras.layers import Dense, Flatten, Conv2D, MaxPooling2D, Dropout, Activation, GlobalAveragePooling2D\n",
        "\n",
        "def malaria_model(x_train, y_train, x_val, y_val, params):\n",
        "\n",
        "    model = Sequential()\n",
        "    \n",
        "    filters=params['filters']\n",
        "    \n",
        "    for i in range(0, params['num_conv']):\n",
        "        model.add(Conv2D(filters=filters, kernel_size=params['kernel_size'], padding='same', activation=params['activation']))\n",
        "        model.add(MaxPooling2D(pool_size=params['pool_size']))\n",
        "        model.add(Dropout(params['dropout_conv']))\n",
        "        filters*=2\n",
        "  \n",
        "    model.add(Flatten())\n",
        "  \n",
        "    for i in range(0, params['num_dense']):\n",
        "        model.add(Dense(units=params['units_dense'], activation=params['activation']))\n",
        "        model.add(Dropout(params['dropout_dense']))\n",
        "\n",
        "    model.add(Dense(2, activation='softmax'))\n",
        "    \n",
        "    \n",
        "    model.compile(loss=params['losses'],\n",
        "                  optimizer=params['optimizer'],\n",
        "                  metrics=['accuracy'])\n",
        "    \n",
        "    \n",
        "    history = model.fit_generator(datagen.flow(x_train, y_train, batch_size=params['batch_size']), \n",
        "                                  validation_data=(x_val, y_val),\n",
        "                                  shuffle=True,\n",
        "                                  epochs=params['epochs'],\n",
        "                                  verbose=1)\n",
        "    \n",
        "    return history, model"
      ],
      "execution_count": 0,
      "outputs": []
    },
    {
      "cell_type": "code",
      "metadata": {
        "id": "Vg-VEAiPxcKL",
        "colab_type": "code",
        "colab": {}
      },
      "source": [
        "# then we can go ahead and set the parameter space\n",
        "params = {'num_conv':[3], \n",
        "     'filters':[16,32],\n",
        "     'kernel_size':[3],\n",
        "     'pool_size':[2],\n",
        "     'dropout_conv': [0.25],\n",
        "     'num_dense':[1,2],\n",
        "     'units_dense':[256,512],\n",
        "     'dropout_dense': [0.25],\n",
        "     'losses': ['binary_crossentropy'],\n",
        "     'optimizer': ['adam'],\n",
        "     'activation':['relu'], \n",
        "     'batch_size': [16],\n",
        "     'epochs': [3]}"
      ],
      "execution_count": 0,
      "outputs": []
    },
    {
      "cell_type": "code",
      "metadata": {
        "id": "3DVyjoyl3tAB",
        "colab_type": "code",
        "colab": {}
      },
      "source": [
        "h = ta.Scan(X_train, y_train, params=params,\n",
        "        model=malaria_model, \n",
        "        experiment_name='malaria')"
      ],
      "execution_count": 0,
      "outputs": []
    },
    {
      "cell_type": "code",
      "metadata": {
        "id": "OKuv05UHGDWM",
        "colab_type": "code",
        "colab": {}
      },
      "source": [
        "# accessing the results data frame\n",
        "h.data.head()\n",
        "\n",
        "# accessing epoch entropy values for each round\n",
        "h.peak_epochs_df\n",
        "\n",
        "# access the summary details\n",
        "h.details"
      ],
      "execution_count": 0,
      "outputs": []
    },
    {
      "cell_type": "code",
      "metadata": {
        "id": "JgrQv3OlGDux",
        "colab_type": "code",
        "colab": {}
      },
      "source": [
        "# accessing the saved models\n",
        "h.saved_models\n",
        "\n",
        "# accessing the saved weights for models\n",
        "h.saved_weights"
      ],
      "execution_count": 0,
      "outputs": []
    },
    {
      "cell_type": "code",
      "metadata": {
        "id": "k1B7CVQMGHHn",
        "colab_type": "code",
        "colab": {}
      },
      "source": [
        "# use Scan object as input\n",
        "r = ta.Reporting(h)\n",
        "\n",
        "# use filename as input\n",
        "r = ta.Reporting('malaria_saved_1.csv')"
      ],
      "execution_count": 0,
      "outputs": []
    },
    {
      "cell_type": "code",
      "metadata": {
        "id": "sMP2dw5sGP8K",
        "colab_type": "code",
        "colab": {}
      },
      "source": [
        "# get the number of rounds in the Scan\n",
        "r.rounds()\n",
        "\n",
        "# get the highest result ('val_acc' by default)\n",
        "r.high()\n",
        "\n",
        "# get the highest result for any metric\n",
        "r.high('acc')\n",
        "\n",
        "# get the round with the best result\n",
        "r.rounds2high()\n",
        "\n",
        "# get the best paramaters\n",
        "r.best_params()\n",
        "\n",
        "# get correlation for hyperparameters against a metric\n",
        "r.correlate('val_loss')\n"
      ],
      "execution_count": 0,
      "outputs": []
    },
    {
      "cell_type": "code",
      "metadata": {
        "id": "vRlWTZwTGTIU",
        "colab_type": "code",
        "colab": {}
      },
      "source": [
        "# a regression plot for two dimensions \n",
        "r.plot_regs()\n",
        "\n",
        "# line plot\n",
        "r.plot_line()\n",
        "\n",
        "# up to two dimensional kernel density estimator\n",
        "r.plot_kde('val_acc')\n",
        "\n",
        "# a simple histogram\n",
        "r.plot_hist(bins=50)\n",
        "\n",
        "# heatmap correlation\n",
        "r.plot_corr()\n",
        "\n",
        "# a four dimensional bar grid\n",
        "r.plot_bars('batch_size', 'val_acc', 'first_neuron', 'lr')"
      ],
      "execution_count": 0,
      "outputs": []
    },
    {
      "cell_type": "code",
      "metadata": {
        "id": "Th9pIiVlGWnE",
        "colab_type": "code",
        "colab": {}
      },
      "source": [
        "ta.Deploy(h, 'malaria_saved')"
      ],
      "execution_count": 0,
      "outputs": []
    },
    {
      "cell_type": "code",
      "metadata": {
        "id": "6oXJ1Z7zGvuX",
        "colab_type": "code",
        "colab": {}
      },
      "source": [
        "malaria = ta.Restore('malaria_saved.zip')"
      ],
      "execution_count": 0,
      "outputs": []
    },
    {
      "cell_type": "code",
      "metadata": {
        "id": "sPoHmaGVHFnG",
        "colab_type": "code",
        "colab": {}
      },
      "source": [
        "# get the meta-data for the experiment\n",
        "malaria.details"
      ],
      "execution_count": 0,
      "outputs": []
    },
    {
      "cell_type": "code",
      "metadata": {
        "id": "TKktsfouHIL9",
        "colab_type": "code",
        "colab": {}
      },
      "source": [
        "# get the hyperparameter space boundary\n",
        "malaria.params"
      ],
      "execution_count": 0,
      "outputs": []
    },
    {
      "cell_type": "code",
      "metadata": {
        "id": "ScTAaO9OHCHm",
        "colab_type": "code",
        "colab": {}
      },
      "source": [
        "# the results dataframe\n",
        "malaria.results"
      ],
      "execution_count": 0,
      "outputs": []
    },
    {
      "cell_type": "code",
      "metadata": {
        "id": "HCERftSV2jVn",
        "colab_type": "code",
        "colab": {}
      },
      "source": [
        "# Test Predictions\n",
        "\n",
        "y_pred = np.argmax(malaria.model.predict(X_test), axis=1)"
      ],
      "execution_count": 0,
      "outputs": []
    },
    {
      "cell_type": "code",
      "metadata": {
        "id": "UlC9C06D2mRa",
        "colab_type": "code",
        "colab": {}
      },
      "source": [
        "# Evaluate\n",
        "score = malaria.model.evaluate(X_test, y_test, verbose=0)\n",
        "accuracy = 100*score[1]\n",
        "\n",
        "print(f'Test Accuracy: {accuracy:1.2f}%')"
      ],
      "execution_count": 0,
      "outputs": []
    },
    {
      "cell_type": "code",
      "metadata": {
        "id": "HYrr6FHM2p9J",
        "colab_type": "code",
        "colab": {}
      },
      "source": [
        "from sklearn.metrics import confusion_matrix\n",
        "\n",
        "conf_matrix = confusion_matrix(np.argmax(y_test, axis=1), y_pred)\n",
        "sns.heatmap(conf_matrix, annot=True, fmt='g', cbar=False, cmap=\"viridis\")\n",
        "plt.imshow(conf_matrix, interpolation='nearest', cmap='viridis')\n",
        "plt.title('Confusion matrix')\n",
        "plt.colorbar()\n",
        "plt.ylabel('True label')\n",
        "plt.xlabel('Predicted label')\n",
        "plt.tight_layout()"
      ],
      "execution_count": 0,
      "outputs": []
    },
    {
      "cell_type": "code",
      "metadata": {
        "id": "WIVgGW02N2o_",
        "colab_type": "code",
        "colab": {}
      },
      "source": [
        "from sklearn.metrics import classification_report\n",
        "\n",
        "report = classification_report(np.argmax(y_test, axis=1), y_pred)\n",
        "print(report)"
      ],
      "execution_count": 0,
      "outputs": []
    },
    {
      "cell_type": "code",
      "metadata": {
        "id": "fCBkSYPeOjkD",
        "colab_type": "code",
        "colab": {}
      },
      "source": [
        ""
      ],
      "execution_count": 0,
      "outputs": []
    }
  ]
}